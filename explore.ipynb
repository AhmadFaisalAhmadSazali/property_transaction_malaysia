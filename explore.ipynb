{
 "cells": [
  {
   "cell_type": "code",
   "execution_count": 47,
   "id": "50688b47",
   "metadata": {},
   "outputs": [],
   "source": [
    "import pandas as pd\n",
    "import matplotlib.pyplot as plt\n",
    "\n",
    "pd.set_option(\"display.max_columns\", 50)"
   ]
  },
  {
   "cell_type": "code",
   "execution_count": 48,
   "id": "266c0cea",
   "metadata": {},
   "outputs": [
    {
     "name": "stdout",
     "output_type": "stream",
     "text": [
      "<class 'pandas.core.frame.DataFrame'>\n",
      "RangeIndex: 383584 entries, 0 to 383583\n",
      "Data columns (total 13 columns):\n",
      " #   Column                           Non-Null Count   Dtype  \n",
      "---  ------                           --------------   -----  \n",
      " 0   Property Type                    383584 non-null  object \n",
      " 1   District                         383584 non-null  object \n",
      " 2   Mukim                            383584 non-null  object \n",
      " 3   Scheme Name/Area                 383584 non-null  object \n",
      " 4   Road Name                        283469 non-null  object \n",
      " 5   Month, Year of Transaction Date  383584 non-null  object \n",
      " 6   Tenure                           383584 non-null  object \n",
      " 7   Land/Parcel Area                 383584 non-null  float64\n",
      " 8   Unit                             383584 non-null  object \n",
      " 9   Main Floor Area                  283477 non-null  float64\n",
      " 10  Unit                             283477 non-null  object \n",
      " 11  Unit Level                       383584 non-null  object \n",
      " 12  Transaction Price                383584 non-null  int64  \n",
      "dtypes: float64(2), int64(1), object(10)\n",
      "memory usage: 38.0+ MB\n"
     ]
    }
   ],
   "source": [
    "raw = pd.read_csv(\"data/readable_transaction_01_09_2025.csv\", na_values=[\"\",\"-\",\"   \"])\n",
    "raw.info()"
   ]
  },
  {
   "cell_type": "code",
   "execution_count": 49,
   "id": "e22f5b22",
   "metadata": {},
   "outputs": [
    {
     "data": {
      "text/plain": [
       "Property Type                       Town House\n",
       "District                            Timur Laut\n",
       "Mukim                                       13\n",
       "Scheme Name/Area                   THE ADDRESS\n",
       "Road Name                                  NaN\n",
       "Month, Year of Transaction Date       1/6/2023\n",
       "Tenure                                Freehold\n",
       "Land/Parcel Area                         222.0\n",
       "Unit                                      sq.m\n",
       "Main Floor Area                            NaN\n",
       "Unit                                       NaN\n",
       "Unit Level                                   1\n",
       "Transaction Price                      1550000\n",
       "Name: 383544, dtype: object"
      ]
     },
     "execution_count": 49,
     "metadata": {},
     "output_type": "execute_result"
    }
   ],
   "source": [
    "raw.iloc[383544,:]"
   ]
  },
  {
   "cell_type": "code",
   "execution_count": 50,
   "id": "84d3d5ea",
   "metadata": {},
   "outputs": [
    {
     "name": "stdout",
     "output_type": "stream",
     "text": [
      "Index(['property_type', 'district', 'mukim', 'scheme_name_or_area',\n",
      "       'road_name', 'month_year_of_transaction_date', 'tenure',\n",
      "       'land_or_parcel_area', 'unit', 'main_floor_area', 'unit', 'unit_level',\n",
      "       'transaction_price'],\n",
      "      dtype='object')\n"
     ]
    },
    {
     "data": {
      "text/html": [
       "<div>\n",
       "<style scoped>\n",
       "    .dataframe tbody tr th:only-of-type {\n",
       "        vertical-align: middle;\n",
       "    }\n",
       "\n",
       "    .dataframe tbody tr th {\n",
       "        vertical-align: top;\n",
       "    }\n",
       "\n",
       "    .dataframe thead th {\n",
       "        text-align: right;\n",
       "    }\n",
       "</style>\n",
       "<table border=\"1\" class=\"dataframe\">\n",
       "  <thead>\n",
       "    <tr style=\"text-align: right;\">\n",
       "      <th></th>\n",
       "      <th>property_type</th>\n",
       "      <th>district</th>\n",
       "      <th>mukim</th>\n",
       "      <th>scheme_name_or_area</th>\n",
       "      <th>road_name</th>\n",
       "      <th>month_year_of_transaction_date</th>\n",
       "      <th>tenure</th>\n",
       "      <th>land_or_parcel_area</th>\n",
       "      <th>unit</th>\n",
       "      <th>main_floor_area</th>\n",
       "      <th>unit</th>\n",
       "      <th>unit_level</th>\n",
       "      <th>transaction_price</th>\n",
       "    </tr>\n",
       "  </thead>\n",
       "  <tbody>\n",
       "    <tr>\n",
       "      <th>183161</th>\n",
       "      <td>2 - 2 1/2 Storey Terraced</td>\n",
       "      <td>Kuala Lumpur</td>\n",
       "      <td>Mukim Kuala Lumpur</td>\n",
       "      <td>DAMANSARA HEIGHTS (BKT DAMANSARA)</td>\n",
       "      <td>LORONG SETIABISTARI 5</td>\n",
       "      <td>1/1/2022</td>\n",
       "      <td>Freehold</td>\n",
       "      <td>160.0</td>\n",
       "      <td>sq.m</td>\n",
       "      <td>151.0</td>\n",
       "      <td>sq.m</td>\n",
       "      <td></td>\n",
       "      <td>1600000</td>\n",
       "    </tr>\n",
       "  </tbody>\n",
       "</table>\n",
       "</div>"
      ],
      "text/plain": [
       "                    property_type      district               mukim  \\\n",
       "183161  2 - 2 1/2 Storey Terraced  Kuala Lumpur  Mukim Kuala Lumpur   \n",
       "\n",
       "                      scheme_name_or_area              road_name  \\\n",
       "183161  DAMANSARA HEIGHTS (BKT DAMANSARA)  LORONG SETIABISTARI 5   \n",
       "\n",
       "       month_year_of_transaction_date    tenure  land_or_parcel_area  unit  \\\n",
       "183161                       1/1/2022  Freehold                160.0  sq.m   \n",
       "\n",
       "        main_floor_area  unit unit_level  transaction_price  \n",
       "183161            151.0  sq.m                       1600000  "
      ]
     },
     "execution_count": 50,
     "metadata": {},
     "output_type": "execute_result"
    }
   ],
   "source": [
    "# Formatting/Cleaning Column Names\n",
    "cols = raw.columns.str.strip().str.replace(\" \",\"_\").str.lower().str.replace(\",\",\"\").str.replace(\"/\",\"_or_\")\n",
    "print(cols)\n",
    "data = raw.copy()\n",
    "data.columns = cols\n",
    "data.sample()"
   ]
  },
  {
   "cell_type": "code",
   "execution_count": 51,
   "id": "01c99e74",
   "metadata": {},
   "outputs": [
    {
     "name": "stdout",
     "output_type": "stream",
     "text": [
      "['sq.m']\n",
      "['sq.m' nan]\n",
      "<class 'pandas.core.frame.DataFrame'>\n",
      "RangeIndex: 383584 entries, 0 to 383583\n",
      "Data columns (total 11 columns):\n",
      " #   Column                          Non-Null Count   Dtype  \n",
      "---  ------                          --------------   -----  \n",
      " 0   property_type                   383584 non-null  object \n",
      " 1   district                        383584 non-null  object \n",
      " 2   mukim                           383584 non-null  object \n",
      " 3   scheme_name_or_area             383584 non-null  object \n",
      " 4   road_name                       283469 non-null  object \n",
      " 5   month_year_of_transaction_date  383584 non-null  object \n",
      " 6   tenure                          383584 non-null  object \n",
      " 7   land_or_parcel_area             383584 non-null  float64\n",
      " 8   main_floor_area                 283477 non-null  float64\n",
      " 9   unit_level                      383584 non-null  object \n",
      " 10  transaction_price               383584 non-null  int64  \n",
      "dtypes: float64(2), int64(1), object(8)\n",
      "memory usage: 32.2+ MB\n"
     ]
    }
   ],
   "source": [
    "# Inspecting `unit` column \n",
    "print(data.iloc[:,8].unique())\n",
    "print(data.iloc[:,10].unique())\n",
    "\n",
    "# Dropping unit column as they are the same with the exception of missing data denoted by `-`\n",
    "data = data.drop(columns=\"unit\")\n",
    "data.info()"
   ]
  },
  {
   "cell_type": "code",
   "execution_count": 56,
   "id": "7d370c85",
   "metadata": {},
   "outputs": [
    {
     "name": "stdout",
     "output_type": "stream",
     "text": [
      "property_type                          0\n",
      "district                               0\n",
      "mukim                                  0\n",
      "scheme_name_or_area                    0\n",
      "road_name                         100115\n",
      "month_year_of_transaction_date         0\n",
      "tenure                                 0\n",
      "land_or_parcel_area                    0\n",
      "main_floor_area                   100107\n",
      "unit_level                             0\n",
      "transaction_price                      0\n",
      "dtype: int64\n"
     ]
    },
    {
     "data": {
      "text/html": [
       "<div>\n",
       "<style scoped>\n",
       "    .dataframe tbody tr th:only-of-type {\n",
       "        vertical-align: middle;\n",
       "    }\n",
       "\n",
       "    .dataframe tbody tr th {\n",
       "        vertical-align: top;\n",
       "    }\n",
       "\n",
       "    .dataframe thead th {\n",
       "        text-align: right;\n",
       "    }\n",
       "</style>\n",
       "<table border=\"1\" class=\"dataframe\">\n",
       "  <thead>\n",
       "    <tr style=\"text-align: right;\">\n",
       "      <th></th>\n",
       "      <th>property_type</th>\n",
       "      <th>district</th>\n",
       "      <th>mukim</th>\n",
       "      <th>scheme_name_or_area</th>\n",
       "      <th>road_name</th>\n",
       "      <th>month_year_of_transaction_date</th>\n",
       "      <th>tenure</th>\n",
       "      <th>land_or_parcel_area</th>\n",
       "      <th>main_floor_area</th>\n",
       "      <th>unit_level</th>\n",
       "      <th>transaction_price</th>\n",
       "    </tr>\n",
       "  </thead>\n",
       "  <tbody>\n",
       "    <tr>\n",
       "      <th>260289</th>\n",
       "      <td>Condominium/Apartment</td>\n",
       "      <td>Kinta</td>\n",
       "      <td>Ipoh Selatan</td>\n",
       "      <td>PRIMA FALIM</td>\n",
       "      <td>NaN</td>\n",
       "      <td>1/5/2024</td>\n",
       "      <td>Freehold</td>\n",
       "      <td>73.00</td>\n",
       "      <td>NaN</td>\n",
       "      <td>21</td>\n",
       "      <td>218000</td>\n",
       "    </tr>\n",
       "    <tr>\n",
       "      <th>299521</th>\n",
       "      <td>Condominium/Apartment</td>\n",
       "      <td>Timur Laut</td>\n",
       "      <td>Bdr Tanjung Pinang</td>\n",
       "      <td>QUAYSIDE CONDO (SERI TANJUNG PINANG)</td>\n",
       "      <td>NaN</td>\n",
       "      <td>1/3/2023</td>\n",
       "      <td>Freehold</td>\n",
       "      <td>111.39</td>\n",
       "      <td>NaN</td>\n",
       "      <td>1</td>\n",
       "      <td>850000</td>\n",
       "    </tr>\n",
       "    <tr>\n",
       "      <th>322011</th>\n",
       "      <td>Flat</td>\n",
       "      <td>Hulu Selangor</td>\n",
       "      <td>Bandar Serendah</td>\n",
       "      <td>BUKIT SENTOSA</td>\n",
       "      <td>NaN</td>\n",
       "      <td>1/7/2022</td>\n",
       "      <td>Freehold</td>\n",
       "      <td>72.65</td>\n",
       "      <td>NaN</td>\n",
       "      <td>3</td>\n",
       "      <td>98000</td>\n",
       "    </tr>\n",
       "    <tr>\n",
       "      <th>256081</th>\n",
       "      <td>Condominium/Apartment</td>\n",
       "      <td>Johor Bahru</td>\n",
       "      <td>Plentong</td>\n",
       "      <td>TMN MOLEK</td>\n",
       "      <td>NaN</td>\n",
       "      <td>1/5/2023</td>\n",
       "      <td>Freehold</td>\n",
       "      <td>137.00</td>\n",
       "      <td>NaN</td>\n",
       "      <td>27</td>\n",
       "      <td>680000</td>\n",
       "    </tr>\n",
       "    <tr>\n",
       "      <th>340982</th>\n",
       "      <td>Low-Cost Flat</td>\n",
       "      <td>Klang</td>\n",
       "      <td>Kapar</td>\n",
       "      <td>PANGSAPURI REBANA, BDR BUKIT RAJA</td>\n",
       "      <td>NaN</td>\n",
       "      <td>1/9/2023</td>\n",
       "      <td>Freehold</td>\n",
       "      <td>61.00</td>\n",
       "      <td>NaN</td>\n",
       "      <td>4</td>\n",
       "      <td>130000</td>\n",
       "    </tr>\n",
       "  </tbody>\n",
       "</table>\n",
       "</div>"
      ],
      "text/plain": [
       "                property_type       district               mukim  \\\n",
       "260289  Condominium/Apartment          Kinta        Ipoh Selatan   \n",
       "299521  Condominium/Apartment     Timur Laut  Bdr Tanjung Pinang   \n",
       "322011                   Flat  Hulu Selangor     Bandar Serendah   \n",
       "256081  Condominium/Apartment    Johor Bahru            Plentong   \n",
       "340982          Low-Cost Flat          Klang               Kapar   \n",
       "\n",
       "                         scheme_name_or_area road_name  \\\n",
       "260289                           PRIMA FALIM       NaN   \n",
       "299521  QUAYSIDE CONDO (SERI TANJUNG PINANG)       NaN   \n",
       "322011                         BUKIT SENTOSA       NaN   \n",
       "256081                             TMN MOLEK       NaN   \n",
       "340982     PANGSAPURI REBANA, BDR BUKIT RAJA       NaN   \n",
       "\n",
       "       month_year_of_transaction_date    tenure  land_or_parcel_area  \\\n",
       "260289                       1/5/2024  Freehold                73.00   \n",
       "299521                       1/3/2023  Freehold               111.39   \n",
       "322011                       1/7/2022  Freehold                72.65   \n",
       "256081                       1/5/2023  Freehold               137.00   \n",
       "340982                       1/9/2023  Freehold                61.00   \n",
       "\n",
       "        main_floor_area unit_level  transaction_price  \n",
       "260289              NaN         21             218000  \n",
       "299521              NaN          1             850000  \n",
       "322011              NaN          3              98000  \n",
       "256081              NaN         27             680000  \n",
       "340982              NaN          4             130000  "
      ]
     },
     "execution_count": 56,
     "metadata": {},
     "output_type": "execute_result"
    }
   ],
   "source": [
    "# Missing data analysis\n",
    "print(data.isna().sum())\n",
    "rows_missing = data[data.isna().any(axis=1)]\n",
    "rows_missing.sample(5)"
   ]
  },
  {
   "cell_type": "code",
   "execution_count": null,
   "id": "9990f542",
   "metadata": {},
   "outputs": [],
   "source": []
  },
  {
   "cell_type": "code",
   "execution_count": null,
   "id": "de8256b2",
   "metadata": {},
   "outputs": [],
   "source": []
  },
  {
   "cell_type": "code",
   "execution_count": null,
   "id": "198fb8de",
   "metadata": {},
   "outputs": [],
   "source": []
  },
  {
   "cell_type": "code",
   "execution_count": null,
   "id": "e8e832bc",
   "metadata": {},
   "outputs": [],
   "source": []
  },
  {
   "cell_type": "code",
   "execution_count": null,
   "id": "e54f330b",
   "metadata": {},
   "outputs": [],
   "source": []
  },
  {
   "cell_type": "code",
   "execution_count": null,
   "id": "d5d88080",
   "metadata": {},
   "outputs": [],
   "source": []
  },
  {
   "cell_type": "code",
   "execution_count": null,
   "id": "3555fe57",
   "metadata": {},
   "outputs": [],
   "source": []
  }
 ],
 "metadata": {
  "kernelspec": {
   "display_name": "ml_project",
   "language": "python",
   "name": "python3"
  },
  "language_info": {
   "codemirror_mode": {
    "name": "ipython",
    "version": 3
   },
   "file_extension": ".py",
   "mimetype": "text/x-python",
   "name": "python",
   "nbconvert_exporter": "python",
   "pygments_lexer": "ipython3",
   "version": "3.11.0"
  }
 },
 "nbformat": 4,
 "nbformat_minor": 5
}
