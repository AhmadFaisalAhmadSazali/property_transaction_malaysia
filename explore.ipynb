{
 "cells": [
  {
   "cell_type": "code",
   "execution_count": 1,
   "id": "50688b47",
   "metadata": {},
   "outputs": [],
   "source": [
    "import pandas as pd\n",
    "import matplotlib.pyplot as plt\n",
    "\n",
    "pd.set_option(\"display.max_columns\", 50)"
   ]
  },
  {
   "cell_type": "code",
   "execution_count": 6,
   "id": "266c0cea",
   "metadata": {},
   "outputs": [
    {
     "name": "stderr",
     "output_type": "stream",
     "text": [
      "C:\\Users\\faisa\\AppData\\Local\\Temp\\ipykernel_26692\\1786085868.py:1: DtypeWarning: Columns (9) have mixed types. Specify dtype option on import or set low_memory=False.\n",
      "  raw = pd.read_csv(\"data/readable_transaction_01_09_2025.csv\")\n"
     ]
    },
    {
     "name": "stdout",
     "output_type": "stream",
     "text": [
      "<class 'pandas.core.frame.DataFrame'>\n",
      "RangeIndex: 383584 entries, 0 to 383583\n",
      "Data columns (total 13 columns):\n",
      " #   Column                           Non-Null Count   Dtype  \n",
      "---  ------                           --------------   -----  \n",
      " 0   Property Type                    383584 non-null  object \n",
      " 1   District                         383584 non-null  object \n",
      " 2   Mukim                            383584 non-null  object \n",
      " 3   Scheme Name/Area                 383584 non-null  object \n",
      " 4   Road Name                        383584 non-null  object \n",
      " 5   Month, Year of Transaction Date  383584 non-null  object \n",
      " 6   Tenure                           383584 non-null  object \n",
      " 7   Land/Parcel Area                 383584 non-null  float64\n",
      " 8   Unit                             383584 non-null  object \n",
      " 9   Main Floor Area                  383584 non-null  object \n",
      " 10  Unit                             383584 non-null  object \n",
      " 11  Unit Level                       383584 non-null  object \n",
      " 12  Transaction Price                383584 non-null  int64  \n",
      "dtypes: float64(1), int64(1), object(11)\n",
      "memory usage: 38.0+ MB\n"
     ]
    }
   ],
   "source": [
    "raw = pd.read_csv(\"data/readable_transaction_01_09_2025.csv\")\n",
    "raw.info()"
   ]
  },
  {
   "cell_type": "code",
   "execution_count": 16,
   "id": "84d3d5ea",
   "metadata": {},
   "outputs": [
    {
     "name": "stdout",
     "output_type": "stream",
     "text": [
      "Index(['property_type', 'district', 'mukim', 'scheme_name_or_area',\n",
      "       'road_name', 'month_year_of_transaction_date', 'tenure',\n",
      "       'land_or_parcel_area', 'unit', 'main_floor_area', 'unit', 'unit_level',\n",
      "       'transaction_price'],\n",
      "      dtype='object')\n"
     ]
    },
    {
     "data": {
      "text/html": [
       "<div>\n",
       "<style scoped>\n",
       "    .dataframe tbody tr th:only-of-type {\n",
       "        vertical-align: middle;\n",
       "    }\n",
       "\n",
       "    .dataframe tbody tr th {\n",
       "        vertical-align: top;\n",
       "    }\n",
       "\n",
       "    .dataframe thead th {\n",
       "        text-align: right;\n",
       "    }\n",
       "</style>\n",
       "<table border=\"1\" class=\"dataframe\">\n",
       "  <thead>\n",
       "    <tr style=\"text-align: right;\">\n",
       "      <th></th>\n",
       "      <th>property_type</th>\n",
       "      <th>district</th>\n",
       "      <th>mukim</th>\n",
       "      <th>scheme_name_or_area</th>\n",
       "      <th>road_name</th>\n",
       "      <th>month_year_of_transaction_date</th>\n",
       "      <th>tenure</th>\n",
       "      <th>land_or_parcel_area</th>\n",
       "      <th>unit</th>\n",
       "      <th>main_floor_area</th>\n",
       "      <th>unit</th>\n",
       "      <th>unit_level</th>\n",
       "      <th>transaction_price</th>\n",
       "    </tr>\n",
       "  </thead>\n",
       "  <tbody>\n",
       "    <tr>\n",
       "      <th>9654</th>\n",
       "      <td>1 - 1 1/2 Storey Semi-Detached</td>\n",
       "      <td>Kuala Nerus</td>\n",
       "      <td>Kuala Nerus</td>\n",
       "      <td>KG TEPUH</td>\n",
       "      <td>OFF JLN KB/KT    PL1360</td>\n",
       "      <td>1/8/2022</td>\n",
       "      <td>Freehold</td>\n",
       "      <td>470.0</td>\n",
       "      <td>sq.m</td>\n",
       "      <td>111</td>\n",
       "      <td>sq.m</td>\n",
       "      <td></td>\n",
       "      <td>435000</td>\n",
       "    </tr>\n",
       "  </tbody>\n",
       "</table>\n",
       "</div>"
      ],
      "text/plain": [
       "                       property_type     district        mukim  \\\n",
       "9654  1 - 1 1/2 Storey Semi-Detached  Kuala Nerus  Kuala Nerus   \n",
       "\n",
       "     scheme_name_or_area                road_name  \\\n",
       "9654            KG TEPUH  OFF JLN KB/KT    PL1360   \n",
       "\n",
       "     month_year_of_transaction_date    tenure  land_or_parcel_area  unit  \\\n",
       "9654                       1/8/2022  Freehold                470.0  sq.m   \n",
       "\n",
       "     main_floor_area  unit unit_level  transaction_price  \n",
       "9654             111  sq.m                        435000  "
      ]
     },
     "execution_count": 16,
     "metadata": {},
     "output_type": "execute_result"
    }
   ],
   "source": [
    "# Formatting/Cleaning Column Names\n",
    "cols = raw.columns.str.strip().str.replace(\" \",\"_\").str.lower().str.replace(\",\",\"\").str.replace(\"/\",\"_or_\")\n",
    "print(cols)\n",
    "data = raw.copy()\n",
    "data.columns = cols\n",
    "data.sample()"
   ]
  },
  {
   "cell_type": "code",
   "execution_count": null,
   "id": "01c99e74",
   "metadata": {},
   "outputs": [],
   "source": []
  },
  {
   "cell_type": "code",
   "execution_count": null,
   "id": "7d370c85",
   "metadata": {},
   "outputs": [],
   "source": []
  },
  {
   "cell_type": "code",
   "execution_count": null,
   "id": "9990f542",
   "metadata": {},
   "outputs": [],
   "source": []
  },
  {
   "cell_type": "code",
   "execution_count": null,
   "id": "de8256b2",
   "metadata": {},
   "outputs": [],
   "source": []
  },
  {
   "cell_type": "code",
   "execution_count": null,
   "id": "198fb8de",
   "metadata": {},
   "outputs": [],
   "source": []
  },
  {
   "cell_type": "code",
   "execution_count": null,
   "id": "e8e832bc",
   "metadata": {},
   "outputs": [],
   "source": []
  },
  {
   "cell_type": "code",
   "execution_count": null,
   "id": "e54f330b",
   "metadata": {},
   "outputs": [],
   "source": []
  },
  {
   "cell_type": "code",
   "execution_count": null,
   "id": "d5d88080",
   "metadata": {},
   "outputs": [],
   "source": []
  },
  {
   "cell_type": "code",
   "execution_count": null,
   "id": "3555fe57",
   "metadata": {},
   "outputs": [],
   "source": []
  }
 ],
 "metadata": {
  "kernelspec": {
   "display_name": "ml_project",
   "language": "python",
   "name": "python3"
  },
  "language_info": {
   "codemirror_mode": {
    "name": "ipython",
    "version": 3
   },
   "file_extension": ".py",
   "mimetype": "text/x-python",
   "name": "python",
   "nbconvert_exporter": "python",
   "pygments_lexer": "ipython3",
   "version": "3.11.0"
  }
 },
 "nbformat": 4,
 "nbformat_minor": 5
}
